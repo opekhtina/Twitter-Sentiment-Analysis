{
 "cells": [
  {
   "cell_type": "markdown",
   "metadata": {
    "application/vnd.databricks.v1+cell": {
     "cellMetadata": {
      "byteLimit": 2048000,
      "rowLimit": 10000
     },
     "inputWidgets": {},
     "nuid": "9feb61f4-f380-41f4-9a77-9ebf5bb683eb",
     "showTitle": false,
     "title": ""
    }
   },
   "source": [
    "# Big Data Project - Twitter Sentiment Analysis - Data Preparation\n"
   ]
  },
  {
   "cell_type": "markdown",
   "metadata": {
    "application/vnd.databricks.v1+cell": {
     "cellMetadata": {
      "byteLimit": 2048000,
      "rowLimit": 10000
     },
     "inputWidgets": {},
     "nuid": "9ccc0192-95f6-40d7-acee-9e5d8f95c2d0",
     "showTitle": false,
     "title": ""
    }
   },
   "source": [
    "## 1. Imports"
   ]
  },
  {
   "cell_type": "code",
   "execution_count": 0,
   "metadata": {
    "application/vnd.databricks.v1+cell": {
     "cellMetadata": {
      "byteLimit": 2048000,
      "rowLimit": 10000
     },
     "inputWidgets": {},
     "nuid": "9cc3acd3-bc4f-4252-adc7-db6c19ee7367",
     "showTitle": false,
     "title": ""
    }
   },
   "outputs": [
    {
     "output_type": "stream",
     "name": "stderr",
     "output_type": "stream",
     "text": [
      "[nltk_data] Downloading package vader_lexicon to /root/nltk_data...\n[nltk_data]   Package vader_lexicon is already up-to-date!\n"
     ]
    }
   ],
   "source": [
    "# Pyspark Imports\n",
    "from pyspark.sql import SparkSession\n",
    "from pyspark.sql.types import *\n",
    "from pyspark.sql import functions as F\n",
    "from pyspark.sql.functions import regexp_replace, lower, trim, udf, pandas_udf, col, to_timestamp\n",
    "from pyspark.sql.functions import udf\n",
    "\n",
    "# Vader imports\n",
    "#!pip install nltk\n",
    "import nltk\n",
    "nltk.download('vader_lexicon')\n",
    "from nltk.sentiment.vader import SentimentIntensityAnalyzer\n",
    "\n",
    "# ML imports\n",
    "from pyspark.ml.feature import NGram, VectorAssembler, StopWordsRemover, HashingTF, IDF, Tokenizer, StringIndexer, CountVectorizer, ChiSqSelector\n",
    "from pyspark.ml.classification import LogisticRegression, RandomForestClassifier, NaiveBayes, DecisionTreeClassifier\n",
    "from pyspark.ml.tuning import ParamGridBuilder, CrossValidator\n",
    "from pyspark.ml import Pipeline\n",
    "from pyspark.ml.evaluation import MulticlassClassificationEvaluator\n",
    "\n",
    "##Visualization\n",
    "import matplotlib.pyplot as plt\n",
    "\n",
    "import pandas as pd\n"
   ]
  },
  {
   "cell_type": "markdown",
   "metadata": {
    "application/vnd.databricks.v1+cell": {
     "cellMetadata": {},
     "inputWidgets": {},
     "nuid": "1844599b-9826-4856-98c2-1fd3018030db",
     "showTitle": false,
     "title": ""
    }
   },
   "source": [
    "## 2.Functions"
   ]
  },
  {
   "cell_type": "code",
   "execution_count": 0,
   "metadata": {
    "application/vnd.databricks.v1+cell": {
     "cellMetadata": {
      "byteLimit": 2048000,
      "rowLimit": 10000
     },
     "inputWidgets": {},
     "nuid": "54f99cad-8561-4620-af6b-684868f52d0c",
     "showTitle": false,
     "title": ""
    }
   },
   "outputs": [],
   "source": [
    "# Function to mount bucket\n",
    "def mount_s3_bucket(access_key, secret_key, bucket_name, mount_folder):\n",
    "    ACCESS_KEY_ID = access_key\n",
    "    SECRET_ACCESS_KEY = secret_key\n",
    "    ENCODED_SECRET_KEY = SECRET_ACCESS_KEY.replace('/', '%2F')\n",
    "\n",
    "    print ('Mounting', bucket_name)\n",
    "\n",
    "    try:\n",
    "    # Unmount the data in case it was already mounted.\n",
    "        dbutils.fs.unmount('/mnt/%s' % mount_folder)\n",
    "\n",
    "    except:\n",
    "        # If it fails to unmount it most likely wasn't mounted in the first place\n",
    "        print ('Directory not unmounted: ', mount_folder)\n",
    "\n",
    "    finally:\n",
    "        # Lastly, mount our bucket.\n",
    "        dbutils.fs.mount('s3a://%s:%s@%s' % (ACCESS_KEY_ID, ENCODED_SECRET_KEY, bucket_name), '/mnt/%s' % mount_folder)\n",
    "        print ('The bucket', bucket_name, 'was mounted to', mount_folder, '\\n')"
   ]
  },
  {
   "cell_type": "code",
   "execution_count": 0,
   "metadata": {
    "application/vnd.databricks.v1+cell": {
     "cellMetadata": {
      "byteLimit": 2048000,
      "rowLimit": 10000
     },
     "inputWidgets": {},
     "nuid": "2b9ff628-12c5-4b36-be56-119ddef4347a",
     "showTitle": false,
     "title": ""
    }
   },
   "outputs": [],
   "source": [
    "# Function to get sentiment\n",
    "# Loops over text and  returns a pandas series of sentiments\n",
    "def get_sentiment_udf(text_series: pd.Series) -> pd.Series:\n",
    "    analyzer = SentimentIntensityAnalyzer()\n",
    "    sentiments = []\n",
    "    for text in text_series:\n",
    "        sentiment = analyzer.polarity_scores(text)['compound']\n",
    "        if sentiment > 0:\n",
    "            sentiments.append('positive')\n",
    "        elif sentiment < 0:\n",
    "            sentiments.append('negative')\n",
    "        else:\n",
    "            sentiments.append('neutral')\n",
    "    return pd.Series(sentiments)"
   ]
  },
  {
   "cell_type": "markdown",
   "metadata": {
    "application/vnd.databricks.v1+cell": {
     "cellMetadata": {
      "byteLimit": 2048000,
      "rowLimit": 10000
     },
     "inputWidgets": {},
     "nuid": "17e018bf-de1e-455a-98c0-48187c133683",
     "showTitle": false,
     "title": ""
    }
   },
   "source": [
    "## 3.Mounting S3 buckets\n"
   ]
  },
  {
   "cell_type": "code",
   "execution_count": 0,
   "metadata": {
    "application/vnd.databricks.v1+cell": {
     "cellMetadata": {
      "byteLimit": 2048000,
      "rowLimit": 10000
     },
     "inputWidgets": {},
     "nuid": "a826b0b5-878c-4c16-a416-3747d06de936",
     "showTitle": false,
     "title": ""
    }
   },
   "outputs": [],
   "source": [
    "ACCESS_KEY = 'YOUR ACCESS KEY'\n",
    "SECRET_ACCESS_KEY = 'YOUR SECRET KEY'"
   ]
  },
  {
   "cell_type": "code",
   "execution_count": 0,
   "metadata": {
    "application/vnd.databricks.v1+cell": {
     "cellMetadata": {
      "byteLimit": 2048000,
      "rowLimit": 10000
     },
     "inputWidgets": {},
     "nuid": "0b6f7f13-daea-4031-9581-95de1b988117",
     "showTitle": false,
     "title": ""
    }
   },
   "outputs": [
    {
     "output_type": "stream",
     "name": "stdout",
     "output_type": "stream",
     "text": [
      "Mounting weclouddata/twitter/WorldCup/\nDirectory not unmounted:  project\nThe bucket weclouddata/twitter/WorldCup/ was mounted to project \n\n"
     ]
    }
   ],
   "source": [
    "# Mounting WCD bucket with the data\n",
    "mount_s3_bucket(ACCESS_KEY, SECRET_ACCESS_KEY, 'weclouddata/twitter/WorldCup/', 'project')"
   ]
  },
  {
   "cell_type": "code",
   "execution_count": 0,
   "metadata": {
    "application/vnd.databricks.v1+cell": {
     "cellMetadata": {
      "byteLimit": 2048000,
      "rowLimit": 10000
     },
     "inputWidgets": {},
     "nuid": "d638164b-9689-48a9-bb8e-969977de25a5",
     "showTitle": false,
     "title": ""
    }
   },
   "outputs": [
    {
     "output_type": "stream",
     "name": "stdout",
     "output_type": "stream",
     "text": [
      "Mounting b17-masha/project/\nDirectory not unmounted:  storage\nThe bucket b17-masha/project/ was mounted to storage \n\n"
     ]
    }
   ],
   "source": [
    "# Mounting own bucket to store data\n",
    "mount_s3_bucket(ACCESS_KEY, SECRET_ACCESS_KEY, 'b17-masha/project/', 'storage')"
   ]
  },
  {
   "cell_type": "markdown",
   "metadata": {
    "application/vnd.databricks.v1+cell": {
     "cellMetadata": {},
     "inputWidgets": {},
     "nuid": "56814fb5-8692-4b10-8cc4-51d7af5788ef",
     "showTitle": false,
     "title": ""
    }
   },
   "source": [
    "## 4.Data Processing"
   ]
  },
  {
   "cell_type": "markdown",
   "metadata": {
    "application/vnd.databricks.v1+cell": {
     "cellMetadata": {
      "byteLimit": 2048000,
      "rowLimit": 10000
     },
     "inputWidgets": {},
     "nuid": "06a32335-193a-4519-9607-5c623f9f0420",
     "showTitle": false,
     "title": ""
    }
   },
   "source": [
    "### 4.1 Loading data"
   ]
  },
  {
   "cell_type": "code",
   "execution_count": 0,
   "metadata": {
    "application/vnd.databricks.v1+cell": {
     "cellMetadata": {
      "byteLimit": 2048000,
      "rowLimit": 10000
     },
     "inputWidgets": {},
     "nuid": "c969695f-a484-4ebb-a758-1188f5337edb",
     "showTitle": false,
     "title": ""
    }
   },
   "outputs": [
    {
     "output_type": "stream",
     "name": "stdout",
     "output_type": "stream",
     "text": [
      "Session created\n"
     ]
    }
   ],
   "source": [
    "# Creating Spark Session\n",
    "spark = SparkSession \\\n",
    "        .builder \\\n",
    "        .appName('Big Data Project') \\\n",
    "        .getOrCreate()\n",
    "print('Session created')\n",
    "\n",
    "sc = spark.sparkContext"
   ]
  },
  {
   "cell_type": "code",
   "execution_count": 0,
   "metadata": {
    "application/vnd.databricks.v1+cell": {
     "cellMetadata": {
      "byteLimit": 2048000,
      "rowLimit": 10000
     },
     "inputWidgets": {},
     "nuid": "d0c924cc-62ae-4316-87b5-654df7c12a40",
     "showTitle": false,
     "title": ""
    }
   },
   "outputs": [],
   "source": [
    "# Creating Schema for our twitter data\n",
    "wcSchema = StructType([\n",
    "    StructField('id', LongType(), True),  \n",
    "    StructField('user_name', StringType(), True),\n",
    "    StructField('user_screen_name', StringType(), True),\n",
    "    StructField('text', StringType(), True),\n",
    "    StructField('followers_count', IntegerType(), True),\n",
    "    StructField('location', StringType(), True),\n",
    "    StructField('geo', StringType(), True),\n",
    "    StructField('created_at', StringType(), True)  \n",
    "])"
   ]
  },
  {
   "cell_type": "code",
   "execution_count": 0,
   "metadata": {
    "application/vnd.databricks.v1+cell": {
     "cellMetadata": {
      "byteLimit": 2048000,
      "rowLimit": 10000
     },
     "inputWidgets": {},
     "nuid": "2154ef84-58c7-4b17-8044-0a3d9039a3ea",
     "showTitle": false,
     "title": ""
    }
   },
   "outputs": [],
   "source": [
    "# Loading Data - loading in the full dataset to filter rows that we are most interested in\n",
    "\n",
    "file = '/mnt/project/*/*/*/*/*'\n",
    "\n",
    "data = (spark.read                 \n",
    "   .option('header', 'false')       \n",
    "   .option('delimiter', '\\t')\n",
    "   .schema(wcSchema)      \n",
    "   .csv(file)\n",
    ")"
   ]
  },
  {
   "cell_type": "markdown",
   "metadata": {
    "application/vnd.databricks.v1+cell": {
     "cellMetadata": {
      "byteLimit": 2048000,
      "rowLimit": 10000
     },
     "inputWidgets": {},
     "nuid": "c07b8a01-76c0-4dcb-b9a8-301e88a68d4c",
     "showTitle": false,
     "title": ""
    }
   },
   "source": [
    "### 4.2 Data Cleaning\n",
    "\n",
    "For this project, tweets that are pure retweets will be removed to allow for more opportunities for free text"
   ]
  },
  {
   "cell_type": "code",
   "execution_count": 0,
   "metadata": {
    "application/vnd.databricks.v1+cell": {
     "cellMetadata": {
      "byteLimit": 2048000,
      "rowLimit": 10000
     },
     "inputWidgets": {},
     "nuid": "4570ed2b-29b3-44d2-8044-9290a7f19eb6",
     "showTitle": false,
     "title": ""
    }
   },
   "outputs": [],
   "source": [
    "# Removing data that is purely retweets\n",
    "data_0 = data.filter(col('text').like('RT%')==False)"
   ]
  },
  {
   "cell_type": "code",
   "execution_count": 0,
   "metadata": {
    "application/vnd.databricks.v1+cell": {
     "cellMetadata": {
      "byteLimit": 2048000,
      "rowLimit": 10000
     },
     "inputWidgets": {},
     "nuid": "caa9cf63-9a5f-49da-847a-3f6db41c6d2e",
     "showTitle": false,
     "title": ""
    }
   },
   "outputs": [],
   "source": [
    "# Limiting the dataframe to the first 1 million rows\n",
    "data_1 = data_0.limit(1000000)"
   ]
  },
  {
   "cell_type": "code",
   "execution_count": 0,
   "metadata": {
    "application/vnd.databricks.v1+cell": {
     "cellMetadata": {
      "byteLimit": 2048000,
      "rowLimit": 10000
     },
     "inputWidgets": {},
     "nuid": "60223b71-6b5d-4a9f-bbd3-1f1f04fee6a6",
     "showTitle": false,
     "title": ""
    }
   },
   "outputs": [
    {
     "output_type": "stream",
     "name": "stdout",
     "output_type": "stream",
     "text": [
      "+-------------------+--------------------+----------------+--------------------+---------------+-------------------+----+--------------------+\n|                 id|           user_name|user_screen_name|                text|followers_count|           location| geo|          created_at|\n+-------------------+--------------------+----------------+--------------------+---------------+-------------------+----+--------------------+\n|1601642512845705216|ayub abdulahi max'ud|         ayub_ud|bayc world cup nf...|              3|               None|None|Sat Dec 10 18:18:...|\n|1601642513080922112|  Watch Plug Wobs⚡🔌|         _varg76|    😂😂😂💀 Gbafest|            254|            Nigeria|None|Sat Dec 10 18:18:...|\n|1601642513366155264|                  🙄|  thoughtsofdebs|Yayyyyyy if Niger...|            322|             London|None|Sat Dec 10 18:18:...|\n|1601642511671230464|Better Odds Predi...|       Manaji111|I feel the pain f...|            111|               None|None|Sat Dec 10 18:18:...|\n|1601642513957552128|            Kulani M|    kulani_kulls|Messi has more Wo...|          21011|Ebony Park, Gauteng|None|Sat Dec 10 18:18:...|\n+-------------------+--------------------+----------------+--------------------+---------------+-------------------+----+--------------------+\nonly showing top 5 rows\n\n"
     ]
    }
   ],
   "source": [
    "data_1.show(5)"
   ]
  },
  {
   "cell_type": "code",
   "execution_count": 0,
   "metadata": {
    "application/vnd.databricks.v1+cell": {
     "cellMetadata": {
      "byteLimit": 2048000,
      "rowLimit": 10000
     },
     "inputWidgets": {},
     "nuid": "7a3f4e23-ec80-4cee-a85f-49c5d7e44261",
     "showTitle": false,
     "title": ""
    }
   },
   "outputs": [],
   "source": [
    "# dropping 'geo' due to lack of records\n",
    "data_2 = data_1.drop('geo')"
   ]
  },
  {
   "cell_type": "code",
   "execution_count": 0,
   "metadata": {
    "application/vnd.databricks.v1+cell": {
     "cellMetadata": {
      "byteLimit": 2048000,
      "rowLimit": 10000
     },
     "inputWidgets": {},
     "nuid": "b71d9edb-a14b-494b-82a3-2b3b5fb555fe",
     "showTitle": false,
     "title": ""
    }
   },
   "outputs": [],
   "source": [
    "# dropping rows with null values in 'created_at' column to avoid data corruption when exporting\n",
    "df = data_2.filter(col('created_at').isNull()==False)"
   ]
  },
  {
   "cell_type": "code",
   "execution_count": 0,
   "metadata": {
    "application/vnd.databricks.v1+cell": {
     "cellMetadata": {
      "byteLimit": 2048000,
      "rowLimit": 10000
     },
     "inputWidgets": {},
     "nuid": "00132b14-6dcb-49a1-afb7-6224824580b1",
     "showTitle": false,
     "title": ""
    }
   },
   "outputs": [],
   "source": [
    "# Converting 'created_at' column to timestamp\n",
    "# Using legacy timestamp policy due to formatting\n",
    "spark.conf.set('spark.sql.legacy.timeParserPolicy', 'LEGACY')\n",
    "\n",
    "# Converting 'created_at' to timestamp\n",
    "df = data_2.withColumn('created', to_timestamp('created_at', 'EEE MMM dd HH:mm:ss Z yyyy')).drop('created_at')\n"
   ]
  },
  {
   "cell_type": "markdown",
   "metadata": {
    "application/vnd.databricks.v1+cell": {
     "cellMetadata": {},
     "inputWidgets": {},
     "nuid": "a4ce46ca-0270-4c71-821a-16d9fff858af",
     "showTitle": false,
     "title": ""
    }
   },
   "source": [
    "### 4.3 Label Creation\n",
    "\n",
    "Using Vader library as it is considered to be suitable for social media analysis. It's lexicon contains common emoticons as well, which will be useful in this analysis"
   ]
  },
  {
   "cell_type": "code",
   "execution_count": 0,
   "metadata": {
    "application/vnd.databricks.v1+cell": {
     "cellMetadata": {
      "byteLimit": 2048000,
      "rowLimit": 10000
     },
     "inputWidgets": {},
     "nuid": "d2530930-d771-46b7-aa06-82a3b1042dd5",
     "showTitle": false,
     "title": ""
    }
   },
   "outputs": [],
   "source": [
    "# using pandas_udf provided the speediest processing time\n",
    "get_sentiment_pandas_udf = pandas_udf(get_sentiment_udf, returnType=StringType())\n",
    "\n",
    "# creating column 'sentiment' using user-defined function 'get sentiment'\n",
    "df = df.withColumn('sentiment', get_sentiment_pandas_udf(col('text')))"
   ]
  },
  {
   "cell_type": "code",
   "execution_count": 0,
   "metadata": {
    "application/vnd.databricks.v1+cell": {
     "cellMetadata": {
      "byteLimit": 2048000,
      "rowLimit": 10000
     },
     "inputWidgets": {},
     "nuid": "10c5e651-1b06-4f88-805d-e26f2f026057",
     "showTitle": false,
     "title": ""
    }
   },
   "outputs": [],
   "source": [
    "# Repartitioning for better workload distribution\n",
    "df = df.repartition(10)"
   ]
  },
  {
   "cell_type": "markdown",
   "metadata": {
    "application/vnd.databricks.v1+cell": {
     "cellMetadata": {},
     "inputWidgets": {},
     "nuid": "ef41d747-6698-4a18-aaaf-3d8575dcc4a4",
     "showTitle": false,
     "title": ""
    }
   },
   "source": [
    "## 5 EDA"
   ]
  },
  {
   "cell_type": "markdown",
   "metadata": {
    "application/vnd.databricks.v1+cell": {
     "cellMetadata": {},
     "inputWidgets": {},
     "nuid": "7c397069-ea23-44c4-b439-9662ae75efa4",
     "showTitle": false,
     "title": ""
    }
   },
   "source": [
    "### Visualizations\n",
    "\n",
    "- There are 998362 rows of data after null values in date column had been dropped \n",
    "- Labels are somewhat balanced, with 'negative' being a minority class at 17.5% of all data\n",
    "- it seems like the more followers users have the more likely it is for the to tweet positive tweets\n",
    "- the rest of eda will be done in QuickSight\n"
   ]
  },
  {
   "cell_type": "code",
   "execution_count": 0,
   "metadata": {
    "application/vnd.databricks.v1+cell": {
     "cellMetadata": {
      "byteLimit": 2048000,
      "rowLimit": 10000
     },
     "inputWidgets": {},
     "nuid": "db309de1-f39b-41dd-909f-5b750a5333bf",
     "showTitle": false,
     "title": ""
    }
   },
   "outputs": [
    {
     "output_type": "display_data",
     "data": {
      "image/png": "[encoded data removed]"
     },
     "metadata": {
      "application/vnd.databricks.v1+output": {
       "addedWidgets": {},
       "arguments": {},
       "data": "data:image/png;base64,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\n",
       "datasetInfos": [],
       "metadata": {},
       "removedWidgets": [],
       "type": "image"
      }
     },
     "output_type": "display_data"
    }
   ],
   "source": [
    "# Label distribution\n",
    "sentiment_counts = df.groupBy('sentiment').agg(F.count('*').alias('count')).orderBy('count', ascending=False)\n",
    "sentiment_counts_pd = sentiment_counts.toPandas()\n",
    "\n",
    "# Extracting sentiment labels and counts\n",
    "sentiments = sentiment_counts_pd['sentiment']\n",
    "counts = sentiment_counts_pd['count']\n",
    "\n",
    "# Creating a pie chart\n",
    "plt.figure(figsize=(8, 8))\n",
    "plt.pie(counts, labels=sentiments, autopct='%1.1f%%', startangle=140)\n",
    "plt.title('Sentiment Distribution')\n",
    "plt.axis('equal')  \n",
    "plt.show()"
   ]
  },
  {
   "cell_type": "code",
   "execution_count": 0,
   "metadata": {
    "application/vnd.databricks.v1+cell": {
     "cellMetadata": {
      "byteLimit": 2048000,
      "rowLimit": 10000
     },
     "inputWidgets": {},
     "nuid": "5542847c-525e-445b-866c-9d2d062e0519",
     "showTitle": false,
     "title": ""
    }
   },
   "outputs": [
    {
     "output_type": "display_data",
     "data": {
      "image/png": "[encoded data removed]"
     },
     "metadata": {
      "application/vnd.databricks.v1+output": {
       "addedWidgets": {},
       "arguments": {},
       "data": "data:image/png;base64,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\n",
       "datasetInfos": [],
       "metadata": {},
       "removedWidgets": [],
       "type": "image"
      }
     },
     "output_type": "display_data"
    }
   ],
   "source": [
    "# sentiment by follower count\n",
    "sentiment_follower_avg = df.groupBy('sentiment').agg(F.avg('followers_count').alias('avg_followers_count'))\n",
    "sentiment_follower_avg_pd = sentiment_follower_avg.toPandas()\n",
    "\n",
    "# Extract sentiment labels and average follower counts\n",
    "sentiments = sentiment_follower_avg_pd['sentiment']\n",
    "avg_followers_count = sentiment_follower_avg_pd['avg_followers_count']\n",
    "\n",
    "# Create a line chart\n",
    "plt.figure(figsize=(10, 6))\n",
    "plt.plot(sentiments, avg_followers_count, marker='o', linestyle='-', color='b')\n",
    "plt.title('Sentiment by Average Follower Count')\n",
    "plt.xlabel('Sentiment')\n",
    "plt.ylabel('Average Follower Count')\n",
    "plt.xticks(rotation=45)\n",
    "plt.grid(True)\n",
    "plt.tight_layout()\n",
    "plt.show()"
   ]
  },
  {
   "cell_type": "markdown",
   "metadata": {
    "application/vnd.databricks.v1+cell": {
     "cellMetadata": {
      "byteLimit": 2048000,
      "rowLimit": 10000
     },
     "inputWidgets": {},
     "nuid": "c4f3a798-63b2-41e1-b1cb-39a65548cec3",
     "showTitle": false,
     "title": ""
    }
   },
   "source": [
    "###  Saving cleaned data to tmp and s3"
   ]
  },
  {
   "cell_type": "code",
   "execution_count": 0,
   "metadata": {
    "application/vnd.databricks.v1+cell": {
     "cellMetadata": {},
     "inputWidgets": {},
     "nuid": "39a10bab-bd08-4467-8f8e-ceddf7385c12",
     "showTitle": false,
     "title": ""
    }
   },
   "outputs": [],
   "source": [
    "# Saving to tmp folder\n",
    "projectOut = '/tmp/project/clean_data.csv'\n",
    "\n",
    "(df.write                       \n",
    "  .option('delimiter', '\\t')  \n",
    "  .option('header', 'true')\n",
    "  .mode('overwrite')               \n",
    "  .csv(projectOut)               \n",
    ")\n",
    "\n",
    "# Saving to mounted s3 bucket\n",
    "s3_path = 'b17-masha/project'\n",
    "\n",
    "(df.write \n",
    "  .format('csv') \n",
    "  .option('header', True) \n",
    "  .option('delimiter', '\\t') \n",
    "  .mode('overwrite') \n",
    "  .save(f'/mnt/storage/{s3_path}')\n",
    ")"
   ]
  }
 ],
 "metadata": {
  "application/vnd.databricks.v1+notebook": {
   "dashboards": [],
   "language": "python",
   "notebookMetadata": {
    "mostRecentlyExecutedCommandWithImplicitDF": {
     "commandId": -1,
     "dataframes": [
      "_sqldf"
     ]
    },
    "pythonIndentUnit": 4
   },
   "notebookName": "Data Preparation (1)",
   "widgets": {}
  }
 },
 "nbformat": 4,
 "nbformat_minor": 0
}
